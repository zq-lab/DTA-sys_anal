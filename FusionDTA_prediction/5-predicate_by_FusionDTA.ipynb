{
 "cells": [
  {
   "cell_type": "markdown",
   "metadata": {},
   "source": [
    "## 合并代码"
   ]
  }
 ],
 "metadata": {
  "kernelspec": {
   "display_name": "Python 3.11.1 64-bit",
   "language": "python",
   "name": "python3"
  },
  "language_info": {
   "name": "python",
   "version": "3.11.1"
  },
  "orig_nbformat": 4,
  "vscode": {
   "interpreter": {
    "hash": "69ff150e4645d03e3c7960f76f3026fcf3cd65660922dcd3d0393186ae01b9f7"
   }
  }
 },
 "nbformat": 4,
 "nbformat_minor": 2
}
