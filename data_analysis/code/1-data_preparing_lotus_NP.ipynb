{
 "cells": [
  {
   "cell_type": "markdown",
   "metadata": {},
   "source": [
    "# 1. Data Preparing: LOTUS Natural Products "
   ]
  },
  {
   "cell_type": "markdown",
   "metadata": {},
   "source": [
    "#### Exporting NP data from mongo database of LOTUS\n",
    "\n",
    "- 要运行该段代码，需要在本地加载LOTUS的mongo数据库\n",
    "- LOTUS版本：LOTUS version from February 2021"
   ]
  },
  {
   "cell_type": "code",
   "execution_count": null,
   "metadata": {},
   "outputs": [],
   "source": [
    "# connecting and acquring data\n",
    "import pandas as pd\n",
    "import pymongo\n",
    "from pymongo.mongo_client import MongoClient\n",
    "\n",
    "conn = MongoClient('localhost', port=27017)\n",
    "db = conn['lotus']\n",
    "col = db['lotusUniqueNaturalProduct']\n",
    "\n",
    "lotus = col.find({},{'_id':False, 'lotus_id':1, 'smiles':1, 'inchikey':1,\n",
    "                        'chemicalTaxonomyNPclassifierPathway':1,\n",
    "                        'chemicalTaxonomyNPclassifierSuperclass':1,\n",
    "                        'chemicalTaxonomyNPclassifierClass':1})\n",
    "lotus = pd.DataFrame(lotus)\n",
    "conn.close()\n",
    "\n",
    "lotus.rename(columns={'chemicalTaxonomyNPclassifierPathway': 'pathway',\n",
    "                      'chemicalTaxonomyNPclassifierSuperclass': 'superclass',\n",
    "                      'chemicalTaxonomyNPclassifierClass': 'class'}, inplace=True)\n"
   ]
  },
  {
   "cell_type": "code",
   "execution_count": null,
   "metadata": {},
   "outputs": [],
   "source": [
    "# wash class info\n",
    "# lotus.fillna('',inplace=True)\n",
    "lotus['pathway']    = lotus['pathway'].str.split(pat='|', n=1, expand=True)[0]\n",
    "lotus['superclass'] = lotus['superclass'].str.split(pat='|', n=1, expand=True)[0]\n",
    "lotus['class']      = lotus['class'].str.split(pat='|', n=1, expand=True)[0]\n",
    "\n",
    "lotus['connection_status_npclass'] = -1\n",
    "lotus['connection_status_pubchem'] = -1\n",
    "\n",
    "# save data\n",
    "import sqlite3\n",
    "conn = sqlite3.connect('../data/LOTUS_NP.db')\n",
    "lotus.to_sql('lotusNP', conn, if_exists='replace', index=False)\n",
    "conn.close()"
   ]
  },
  {
   "cell_type": "markdown",
   "metadata": {},
   "source": [
    "## 1.2 从SQLite中读取lotus记录，并填补结构类型的空白"
   ]
  },
  {
   "cell_type": "code",
   "execution_count": null,
   "metadata": {},
   "outputs": [],
   "source": [
    "# NP classfier washing\n",
    "\n",
    "import json\n",
    "import urllib3\n",
    "\n",
    "import sqlite3\n",
    "conn = sqlite3.connect('../data/LOTUS_NP.db')\n",
    "\n",
    "# 获取pathway为''、且没有被更新过的记录\n",
    "# values = conn.execute('SELECT * FROM lotusNP WHERE  pathway = \"\" AND connection_status_npclass != 200').fetchall()\n",
    "# SELECT * FROM lotusNP WHERE  (pathway IS NULL OR pathway = '') AND connection_status_npclass !=200\n",
    "values = conn.execute('SELECT * FROM lotusNP WHERE  pathway IS NULL OR pathway = \"\"').fetchall()\n",
    "\n",
    "http = urllib3.PoolManager()\n",
    "url = 'https://npclassifier.ucsd.edu/classify?smiles='\n",
    "table_name = 'lotusNP'\n",
    "\n",
    "i = 0\n",
    "\n",
    "print('Total: %d'%len(values))\n",
    "for entry in values:\n",
    "    i += 1\n",
    "    smiles = entry[1].replace('%', '%25').replace('+', '%2B').replace('#', '%23').replace('/','%2F')\n",
    "\n",
    "    try:\n",
    "        response = http.request('GET', url + smiles, timeout = 5)\n",
    "    except Exception as e:\n",
    "        tmp = conn.execute(f'UPDATE {table_name} SET connection_status_npclass = {response.status} WHERE lotus_id = \"{entry[0]}\"')\n",
    "            # execute赋给变量，可以阻止直接打印结果\n",
    "        continue\n",
    "\n",
    "    if response.status == 200:\n",
    "        infor = json.loads(response.data.decode('utf-8'))            \t\t\n",
    "        npClass      = infor['class_results'][0]        if len(infor['class_results']) > 0      else ''\n",
    "        npSuperclass = infor['superclass_results'][0]   if len(infor['superclass_results']) > 0 else ''\n",
    "        npPathway    = infor['pathway_results'][0]      if len(infor['pathway_results']) > 0    else ''\n",
    "        sql = f'UPDATE {table_name} SET '\n",
    "        sql += f'connection_status_npclass = 200, pathway = \"{npPathway}\", superclass = \"{npSuperclass}\", class = \"{npClass}\" ' \n",
    "        sql += f'WHERE lotus_id = \"{entry[0]}\"'     \n",
    "        # tmp = cur.execute(sql)\n",
    "        conn.execute(sql)\n",
    "    else:\n",
    "        sql = f'UPDATE {table_name} SET connection_status_npclass = {response.status} WHERE lotus_id = \"{entry[0]}\"'\n",
    "        tmp = conn.execute(sql)\n",
    "    \n",
    "    if i%50 == 0:\n",
    "        conn.commit() # 更新数据库\n",
    "\n",
    "    print(f'index (%d): %s || is accomplished, %.2f%% accomplished.'%(i, entry[0], 100*i/len(values)), flush=True, end='\\r')\n",
    "\n",
    "conn.commit() # 更新数据库\n",
    "conn.close()\n"
   ]
  },
  {
   "cell_type": "markdown",
   "metadata": {},
   "source": [
    "## 1.3 Structural class count"
   ]
  },
  {
   "cell_type": "code",
   "execution_count": 6,
   "metadata": {},
   "outputs": [
    {
     "name": "stdout",
     "output_type": "stream",
     "text": [
      "<class 'pandas.core.frame.DataFrame'>\n",
      "RangeIndex: 276518 entries, 0 to 276517\n",
      "Data columns (total 8 columns):\n",
      " #   Column                     Non-Null Count   Dtype \n",
      "---  ------                     --------------   ----- \n",
      " 0   lotus_id                   276518 non-null  object\n",
      " 1   smiles                     276518 non-null  object\n",
      " 2   inchikey                   276518 non-null  object\n",
      " 3   pathway                    276518 non-null  object\n",
      " 4   superclass                 276518 non-null  object\n",
      " 5   class                      276518 non-null  object\n",
      " 6   connection_status_npclass  276518 non-null  int64 \n",
      " 7   connection_status_pubchem  276518 non-null  int64 \n",
      "dtypes: int64(2), object(6)\n",
      "memory usage: 16.9+ MB\n"
     ]
    }
   ],
   "source": [
    "import pandas as pd\n",
    "import sqlite3\n",
    "conn = sqlite3.connect('../data/iNP.db')\n",
    "\n",
    "lotus = pd.read_sql('SELECT * FROM lotusNP', conn)\n",
    "lotus.info()"
   ]
  },
  {
   "cell_type": "code",
   "execution_count": 7,
   "metadata": {},
   "outputs": [],
   "source": [
    "lotus['pathway'] = lotus['pathway'].str.replace(r'^\\s*$', 'Other', regex=True)"
   ]
  },
  {
   "cell_type": "code",
   "execution_count": 8,
   "metadata": {},
   "outputs": [
    {
     "data": {
      "text/html": [
       "<div>\n",
       "<style scoped>\n",
       "    .dataframe tbody tr th:only-of-type {\n",
       "        vertical-align: middle;\n",
       "    }\n",
       "\n",
       "    .dataframe tbody tr th {\n",
       "        vertical-align: top;\n",
       "    }\n",
       "\n",
       "    .dataframe thead th {\n",
       "        text-align: right;\n",
       "    }\n",
       "</style>\n",
       "<table border=\"1\" class=\"dataframe\">\n",
       "  <thead>\n",
       "    <tr style=\"text-align: right;\">\n",
       "      <th></th>\n",
       "      <th>pathway</th>\n",
       "      <th>count</th>\n",
       "    </tr>\n",
       "  </thead>\n",
       "  <tbody>\n",
       "    <tr>\n",
       "      <th>0</th>\n",
       "      <td>Terpenoids</td>\n",
       "      <td>128700</td>\n",
       "    </tr>\n",
       "    <tr>\n",
       "      <th>1</th>\n",
       "      <td>Shikimates and Phenylpropanoids</td>\n",
       "      <td>50613</td>\n",
       "    </tr>\n",
       "    <tr>\n",
       "      <th>2</th>\n",
       "      <td>Alkaloids</td>\n",
       "      <td>32634</td>\n",
       "    </tr>\n",
       "    <tr>\n",
       "      <th>3</th>\n",
       "      <td>Polyketides</td>\n",
       "      <td>31971</td>\n",
       "    </tr>\n",
       "    <tr>\n",
       "      <th>4</th>\n",
       "      <td>Fatty acids</td>\n",
       "      <td>13698</td>\n",
       "    </tr>\n",
       "    <tr>\n",
       "      <th>5</th>\n",
       "      <td>Amino acids and Peptides</td>\n",
       "      <td>12698</td>\n",
       "    </tr>\n",
       "    <tr>\n",
       "      <th>6</th>\n",
       "      <td>Other</td>\n",
       "      <td>3405</td>\n",
       "    </tr>\n",
       "    <tr>\n",
       "      <th>7</th>\n",
       "      <td>Carbohydrates</td>\n",
       "      <td>2799</td>\n",
       "    </tr>\n",
       "  </tbody>\n",
       "</table>\n",
       "</div>"
      ],
      "text/plain": [
       "                           pathway   count\n",
       "0                       Terpenoids  128700\n",
       "1  Shikimates and Phenylpropanoids   50613\n",
       "2                        Alkaloids   32634\n",
       "3                      Polyketides   31971\n",
       "4                      Fatty acids   13698\n",
       "5         Amino acids and Peptides   12698\n",
       "6                            Other    3405\n",
       "7                    Carbohydrates    2799"
      ]
     },
     "execution_count": 8,
     "metadata": {},
     "output_type": "execute_result"
    }
   ],
   "source": [
    "data = lotus['pathway'].value_counts().reset_index()\n",
    "data = pd.DataFrame(data)\n",
    "data"
   ]
  },
  {
   "cell_type": "code",
   "execution_count": 9,
   "metadata": {},
   "outputs": [
    {
     "data": {
      "image/png": "[encoded data removed]",
      "text/plain": [
       "<Figure size 640x480 with 1 Axes>"
      ]
     },
     "metadata": {},
     "output_type": "display_data"
    }
   ],
   "source": [
    "import seaborn as sns\n",
    "sns.set_theme(context='notebook', style='whitegrid', palette='deep', font='sans-serif', font_scale=1.3)\n",
    "fig = sns.barplot(x=\"count\", y=\"pathway\", data=data,alpha=1.0)\n",
    "fig.figure.savefig('../plot/1-NP_class_count.svg', transparent=True)"
   ]
  }
 ],
 "metadata": {
  "kernelspec": {
   "display_name": "Python 3.11.1 64-bit",
   "language": "python",
   "name": "python3"
  },
  "language_info": {
   "codemirror_mode": {
    "name": "ipython",
    "version": 3
   },
   "file_extension": ".py",
   "mimetype": "text/x-python",
   "name": "python",
   "nbconvert_exporter": "python",
   "pygments_lexer": "ipython3",
   "version": "3.11.1"
  },
  "orig_nbformat": 4,
  "vscode": {
   "interpreter": {
    "hash": "69ff150e4645d03e3c7960f76f3026fcf3cd65660922dcd3d0393186ae01b9f7"
   }
  }
 },
 "nbformat": 4,
 "nbformat_minor": 2
}
